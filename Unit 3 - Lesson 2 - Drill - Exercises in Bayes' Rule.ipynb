{
 "cells": [
  {
   "cell_type": "markdown",
   "metadata": {},
   "source": [
    "P(Positive Test|Has Thripshaw) = .98\n",
    "<br>P(Negative Test|Has Thripshaw) = .02\n",
    "<br>P(Positive Test|Doesn't have Thripshaw) = .10\n",
    "<br>P(Negative Test|Doesn't have Thripshaw) = .90\n",
    "<br>P(Has Thripshaw) = .005\n",
    "<br>P(Doesn't have Thripshaw) = .995\n",
    "\n",
    "1. P(Positive) = P(Positive Test|Has Thripshaw)$ * $P(Has Thripshaw)$ + $P(Positive Test|Doesn't have Thripshaw)$ * $P(Doesn't have Thripshaw)$ = .98*.005 +.995*.10 = .1044$\n",
    "\n",
    "2. P(Correctly diagnose a sufferer of Thripshaw)$ = $P(Positive Test|Has Thripshaw)$ = .98$\n",
    "\n",
    "3. P (Correctly identify a non-sufferer of Thripshaw)$ = $P(Negative Test|Doesn't have Thripshaw)$ = .90$\n",
    "\n",
    "4. P(Misclassify the Person) = P(Negative Test|Has Thripshaw)$ * $P(Has Thripshaw)$ + $P(Positive Test|Doesn't have Thripshaw)$ * $P(Doesn't have Thripshaw)$ = .02 * .005 + .10 * .995 = .0996$"
   ]
  },
  {
   "cell_type": "code",
   "execution_count": null,
   "metadata": {},
   "outputs": [],
   "source": []
  }
 ],
 "metadata": {
  "kernelspec": {
   "display_name": "Python 3",
   "language": "python",
   "name": "python3"
  },
  "language_info": {
   "codemirror_mode": {
    "name": "ipython",
    "version": 3
   },
   "file_extension": ".py",
   "mimetype": "text/x-python",
   "name": "python",
   "nbconvert_exporter": "python",
   "pygments_lexer": "ipython3",
   "version": "3.7.2"
  }
 },
 "nbformat": 4,
 "nbformat_minor": 2
}
