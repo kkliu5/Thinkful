{
 "cells": [
  {
   "cell_type": "code",
   "execution_count": 21,
   "metadata": {},
   "outputs": [],
   "source": [
    "import numpy as np\n",
    "import statistics as st"
   ]
  },
  {
   "cell_type": "markdown",
   "metadata": {},
   "source": [
    "# Exercise 1\n",
    "\n",
    "## Data\n",
    "1. Greg 14\n",
    "2. Marcia 12\n",
    "3. Peter 11\n",
    "4. Jan 10\n",
    "5. Bobby 8\n",
    "6. Oliver 8\n",
    "7. Cindy 6\n",
    "\n",
    "\n",
    "## Calculations\n",
    "$ \\sum x = 69$\n",
    "<br> n = 7\n",
    "<br> Mean $= \\frac{69}{7} = 9.8571$\n",
    "<br> Median = 10 (Jan)\n",
    "<br> Mode = 8 (Bobby, Oliver)\n",
    "<br> $ \\sum  (x - \\mu)^2 = \\frac{314}{7} = 44.8571$\n",
    "<br> Variance $= \\frac{44.8571}{7} = 6.4081$\n",
    "<br> Standard deviation $= \\sqrt{6.4081} = 2.5314$\n",
    "<br> Standard error $= \\frac{2.5314}{\\sqrt{7}} = .9567$ \n",
    "\n",
    "\n",
    "## Python Calculations"
   ]
  },
  {
   "cell_type": "code",
   "execution_count": 22,
   "metadata": {},
   "outputs": [
    {
     "name": "stdout",
     "output_type": "stream",
     "text": [
      "mean:  9.857142857142858\n",
      "median:  10.0\n",
      "variance:  6.408163265306122\n",
      "std. deviation : 2.531435020952764\n",
      "standard error : 0.9567925036515135\n",
      "Mode: 8\n"
     ]
    }
   ],
   "source": [
    "ages_1 =[14,12,11,10,8,8,6]\n",
    "\n",
    "def stats(ages):\n",
    "    print(\"mean: \",np.mean(ages))\n",
    "    print(\"median: \",np.median(ages))\n",
    "    print(\"variance: \",np.var(ages))\n",
    "    print(\"std. deviation :\",np.std(ages))\n",
    "    print(\"standard error :\",np.std(ages)/np.sqrt(len(ages)))\n",
    "\n",
    "stats(ages_1)\n",
    "print(\"Mode: 8\")"
   ]
  },
  {
   "cell_type": "markdown",
   "metadata": {},
   "source": [
    "***\n",
    "# Exercise 2\n",
    "\n",
    "I would choose the mean of 9.857 (since it is fairly close to the median) and the standard deviation of 2.5314 "
   ]
  },
  {
   "cell_type": "markdown",
   "metadata": {},
   "source": [
    "***\n",
    "# Exercise 3\n",
    "\n",
    "## Data\n",
    "1. Greg 14\n",
    "2. Marcia 12\n",
    "3. Peter 11\n",
    "4. Jan 10\n",
    "5. Bobby 8\n",
    "6. Oliver 8\n",
    "7. Cindy 7\n",
    "\n",
    "\n",
    "## Calculations\n",
    "$ \\sum x = 70$\n",
    "<br> n = 7\n",
    "<br> Mean $= \\frac{70}{7} = 10$\n",
    "<br> Median = 10 (Jan)\n",
    "<br> Mode = 8 (Bobby, Oliver)\n",
    "<br> $ \\sum  (x - \\mu)^2 = 38$\n",
    "<br> Variance $= \\frac{38}{7} = 5.4285$\n",
    "<br> Standard deviation $= \\sqrt{5.4285} = 2.3299$\n",
    "<br> Standard error $= \\frac{2.3299}{\\sqrt{7}} = .8806$ \n",
    "\n",
    "## Changes\n",
    "$ \\sum x $\n",
    "<br> Mean \n",
    "<br> $ \\sum  (x - \\mu)^2$\n",
    "<br> Variance \n",
    "<br> Standard deviation \n",
    "<br> Standard error \n",
    "\n",
    "## No Change\n",
    "n \n",
    "<br> Median \n",
    "<br> Mode \n",
    "\n",
    "\n",
    "## Python Calculations"
   ]
  },
  {
   "cell_type": "code",
   "execution_count": 23,
   "metadata": {},
   "outputs": [
    {
     "name": "stdout",
     "output_type": "stream",
     "text": [
      "mean:  10.0\n",
      "median:  10.0\n",
      "variance:  5.428571428571429\n",
      "std. deviation : 2.32992949004287\n",
      "standard error : 0.8806305718527109\n",
      "Mode is 8\n"
     ]
    }
   ],
   "source": [
    "ages_3 =[14,12,11,10,8,8,7]\n",
    "stats(ages_3)\n",
    "print(\"Mode is 8\")"
   ]
  },
  {
   "cell_type": "markdown",
   "metadata": {},
   "source": [
    "***\n",
    "# Exercise 4\n",
    "\n",
    "## Data\n",
    "1. Greg 14\n",
    "2. Marcia 12\n",
    "3. Peter 11\n",
    "4. Jan 10\n",
    "5. Bobby 8\n",
    "6. Cindy 7\n",
    "7. Jessica 1\n",
    "\n",
    "## Calculations\n",
    "$ \\sum x = 63$\n",
    "<br> n = 7\n",
    "<br> Mean $= \\frac{63}{7} = 9$\n",
    "<br> Median = 10 (Jan)\n",
    "<br> Mode = none\n",
    "<br> $ \\sum  (x - \\mu)^2 = 108$\n",
    "<br> Variance $= \\frac{108}{7} = 15.4285$\n",
    "<br> Standard deviation $= \\sqrt{18} = 3.9279$\n",
    "<br> Standard error $= \\frac{3.9279}{\\sqrt{7}} = 1.4846$ \n",
    "\n",
    "I would choose median of 10 (since there is outlier of 1) and standard deviation of 3.9279\n",
    "\n",
    "## Python Calculations"
   ]
  },
  {
   "cell_type": "code",
   "execution_count": 24,
   "metadata": {},
   "outputs": [
    {
     "name": "stdout",
     "output_type": "stream",
     "text": [
      "mean:  9.0\n",
      "median:  10.0\n",
      "variance:  15.428571428571429\n",
      "std. deviation : 3.927922024247863\n",
      "standard error : 1.4846149779161806\n",
      "No Mode\n"
     ]
    }
   ],
   "source": [
    "ages_4 =[14,12,11,10,8,7,1]\n",
    "stats(ages_4)\n",
    "print(\"No Mode\")"
   ]
  },
  {
   "cell_type": "markdown",
   "metadata": {},
   "source": [
    "***\n",
    "# Exercise 5\n",
    "\n",
    "## Data\n",
    "1. TV Guide 20%\n",
    "2. Entertainment Weekly 23%\n",
    "3. Pop Culture Today 17% \n",
    "4. SciPhi Phanatic 5%\n",
    "\n",
    "I would estimate 16.25% of adult americans were Brady Bunch fans based on all the sample magazines. I would also only use the first three smaples since SciPhi Phanatic seems like an outlier and a niche magazine, making the estamate to be 20%.\n"
   ]
  },
  {
   "cell_type": "markdown",
   "metadata": {},
   "source": [
    "# Note\n",
    "\n",
    "Standard Error is calculated as $ \\frac{std. dev.}{\\sqrt{n}}$ while in the answer sheet is calculated as $ \\frac{std. dev.}{\\sqrt{n-1}}$"
   ]
  }
 ],
 "metadata": {
  "kernelspec": {
   "display_name": "Python 3",
   "language": "python",
   "name": "python3"
  },
  "language_info": {
   "codemirror_mode": {
    "name": "ipython",
    "version": 3
   },
   "file_extension": ".py",
   "mimetype": "text/x-python",
   "name": "python",
   "nbconvert_exporter": "python",
   "pygments_lexer": "ipython3",
   "version": "3.7.2"
  }
 },
 "nbformat": 4,
 "nbformat_minor": 2
}
