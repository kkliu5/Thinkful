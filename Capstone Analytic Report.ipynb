{
 "cells": [
  {
   "cell_type": "markdown",
   "metadata": {},
   "source": [
    "# Describe Dataset\n",
    "\n",
    "#### What does your data contain and what is its background?\n",
    "The data contains parking citations from the city of LA. \n",
    "- 1.3Gb file\n",
    "- Updated Daily\n",
    "- Over 9 Million entries\n",
    "- Collected from 2015 to present\n",
    "- Each entry is a parking citation that contains information such as Issue Date, Issue Time, Make of the Car, Type of Vehicle, Color of Vehicle, Location, Violation Description, Fine Amount, Latitude and Longitude. \n",
    "- The data is managed by Socrata\n",
    "\n",
    "#### Where does it come from?\n",
    "This is a dataset hosted by the city of Los Angeles. The organization has an open data platform: \n",
    "-     https://data.lacity.org/\n",
    "-     https://data.lacity.org/A-Well-Run-City/Parking-Citations/wjz9-h9np\n",
    "\n",
    "#### Why is it interesting or significant?\n",
    "Parking citations are an important tool used by cities to manage the parking infastructure. There are limited amount of space within each city and parking citations allow the city to help regulate the infrastructure by enforcing the best allocation of space. Another reason why cities utilizes parking citations is because it is a major source of income for the city. \n",
    "\n",
    "This dataset can show how much revenue Los Angles has generated through parking citations, show areas that issues the most citations, what kind of citation is the most common, as well as other useful information.  \n",
    "\n",
    "****\n",
    "# Analytic Questions\n",
    "#### I mentioned that there are two main reasons why parking citations are important to the city. First reason being that it helps regulate the parking infracture within the city. Second reason being that it is a major source of income for the city. Knowing that, I am curious to know whether the city of Los Angeles value the revenue generated more than sustaining the parking structure. We cannot definitively say which one they value more than the other (without speaking to the head of the department and asking them their motives) but we can see whether the meter maids behavior changes to increase revenues. I would expect vehicles to recieve consistent citations regardless of the characteristic of the vehicle or time of day. If we see drastic variablity between the characteristics, we can dive deeper to find out if meter maids are unjustly issuing parking citations to increase the city's revenue. \n",
    "\n",
    "- What is the average fine amount for the entire dataset?\n",
    "- How does that compare to the average fine amount split by vehicle color?\n",
    "- How does that compare to the average fine amount split by vehicle brand?\n",
    "- How does that compare to the average fine amount split by vehicle type?\n",
    "- What are the most common parking citation and what are their fine amounts?\n",
    "\n",
    "****\n",
    "# Propose Further Research\n",
    "- Are meter maids issuing higher tickets at the end of the month to meet city quotas? Are they issuing more frequent tickets?\n",
    "- Is it more based on location and time of day?\n",
    "- Regression analysis\n",
    "\n",
    "****\n",
    "# Potential questions asked during Capstone Review\n",
    "- Did you have any challenges with this data?\n",
    "    - I found it difficult to find the decodes for different variables such as color and vehicle make. There were no decodes that were online. I worked around this by looking at the most popular variable codes and grouping the less popular unknown codes into an other bucket.\n",
    "\n",
    "- Why did you choose this dataset?\n",
    "    - I chose this dataset because I have never worked with a dataset containing such information and wanted to see what I can learn from it. I also found it very intersting that this information is available and well kept.\n",
    "\n",
    "- How did your dataset inform the questions you chose to explore?\n",
    "    - After looking at what the dataset contained I created questions that I could answer based on the available information.\n",
    "\n",
    "- What issues did you run into while analyzing your data?\n",
    "    - Not being able to easily run the type of analysis that I would have liked to. I am still learning how to preform certain tasks through python code and would have taken a lot of time to complete a more robust analysis. Originally I wanted to perform a regression analysis, and ended up evaluating deviations from the summary statistics.\n",
    "\n",
    "- Imagine someone sees this visualization out in the wild, separated from your report. What conclusions would you expect them to draw? Is that the conclusion that you want them to draw?\n",
    "    - I would expect them to come to the conclusion that parking citations are fairly consistent regardless of how you split the data. \n",
    "\n",
    "- How could you make your conclusions more rigorous?\n",
    "    - By doing a deeper analysis of other factors that can tested, such as variablilty of fine amounts throughout time and location. Using a different statistical approach such as regression analysis."
   ]
  },
  {
   "cell_type": "code",
   "execution_count": 108,
   "metadata": {},
   "outputs": [],
   "source": [
    "#importing libraries\n",
    "import matplotlib.pyplot as plt\n",
    "import numpy as np\n",
    "import pandas as pd\n",
    "from scipy import stats"
   ]
  },
  {
   "cell_type": "code",
   "execution_count": 109,
   "metadata": {},
   "outputs": [],
   "source": [
    "#Loading Data\n",
    "df = pd.read_csv('/Users/Kevin/Files/Thinkful/Data Files/los-angeles-parking-citations/parking-citations.csv')"
   ]
  },
  {
   "cell_type": "code",
   "execution_count": 110,
   "metadata": {},
   "outputs": [
    {
     "name": "stdout",
     "output_type": "stream",
     "text": [
      "<class 'pandas.core.frame.DataFrame'>\n",
      "RangeIndex: 9041839 entries, 0 to 9041838\n",
      "Data columns (total 19 columns):\n",
      "Ticket number            object\n",
      "Issue Date               object\n",
      "Issue time               float64\n",
      "Meter Id                 object\n",
      "Marked Time              float64\n",
      "RP State Plate           object\n",
      "Plate Expiry Date        float64\n",
      "VIN                      object\n",
      "Make                     object\n",
      "Body Style               object\n",
      "Color                    object\n",
      "Location                 object\n",
      "Route                    object\n",
      "Agency                   float64\n",
      "Violation code           object\n",
      "Violation Description    object\n",
      "Fine amount              float64\n",
      "Latitude                 float64\n",
      "Longitude                float64\n",
      "dtypes: float64(7), object(12)\n",
      "memory usage: 1.3+ GB\n",
      "\n",
      "Counts:\n",
      "Ticket number            9041839\n",
      "Issue Date               9041298\n",
      "Issue time               9039148\n",
      "Meter Id                 2347355\n",
      "Marked Time               299801\n",
      "RP State Plate           9041074\n",
      "Plate Expiry Date        8215854\n",
      "VIN                        16309\n",
      "Make                     9032757\n",
      "Body Style               9032544\n",
      "Color                    9037565\n",
      "Location                 9040963\n",
      "Route                    8974303\n",
      "Agency                   9041288\n",
      "Violation code           9041839\n",
      "Violation Description    9040915\n",
      "Fine amount              9035099\n",
      "Latitude                 9041836\n",
      "Longitude                9041836\n",
      "dtype: int64\n"
     ]
    }
   ],
   "source": [
    "#snapshot info of dataset\n",
    "df.info()\n",
    "print(\"\")\n",
    "print(\"Counts:\")\n",
    "print(df.count())\n",
    "#df.head()\n",
    "#df.describe()"
   ]
  },
  {
   "cell_type": "markdown",
   "metadata": {},
   "source": [
    "# Summary Statistics for Fine Amount"
   ]
  },
  {
   "cell_type": "code",
   "execution_count": 111,
   "metadata": {},
   "outputs": [
    {
     "name": "stdout",
     "output_type": "stream",
     "text": [
      "Fine amount mean: 70.11\n",
      "Fine amount variance: 1032.39\n",
      "Fine amount standard deviation: 32.13\n",
      "Fine amount minimum: 10.0\n",
      "Fine amount 25% quartile: 63.0\n",
      "Fine amount 50% quartile: 68.0\n",
      "Fine amount 75% quartile: 73.0\n",
      "Fine amount max: 505.0\n"
     ]
    }
   ],
   "source": [
    "mean_fa = np.round(np.mean(df['Fine amount']),2)\n",
    "var_fa = np.round(np.var(df['Fine amount']),2)\n",
    "std_fa = np.round(np.std(df['Fine amount']),2)\n",
    "min_fa = np.min(df['Fine amount'])\n",
    "q25_fa = np.nanquantile(df['Fine amount'],.25)\n",
    "q50_fa = np.nanquantile(df['Fine amount'],.5)\n",
    "q75_fa = np.nanquantile(df['Fine amount'],.75)\n",
    "max_fa = np.max(df['Fine amount'])\n",
    "\n",
    "print(\"Fine amount mean: \" + str(mean_fa))\n",
    "print(\"Fine amount variance: \" + str(var_fa))\n",
    "print(\"Fine amount standard deviation: \" + str(std_fa))\n",
    "print(\"Fine amount minimum: \" + str(min_fa))\n",
    "print(\"Fine amount 25% quartile: \" + str(q25_fa))\n",
    "print(\"Fine amount 50% quartile: \" + str(q50_fa))\n",
    "print(\"Fine amount 75% quartile: \" + str(q75_fa))\n",
    "print(\"Fine amount max: \" + str(max_fa))\n"
   ]
  },
  {
   "cell_type": "code",
   "execution_count": 112,
   "metadata": {},
   "outputs": [
    {
     "data": {
      "text/plain": [
       "array([[<matplotlib.axes._subplots.AxesSubplot object at 0x1ceeec9b0>]],\n",
       "      dtype=object)"
      ]
     },
     "execution_count": 112,
     "metadata": {},
     "output_type": "execute_result"
    },
    {
     "data": {
      "image/png": "[encoded data removed]",
      "text/plain": [
       "<Figure size 432x288 with 1 Axes>"
      ]
     },
     "metadata": {
      "needs_background": "light"
     },
     "output_type": "display_data"
    }
   ],
   "source": [
    "#showing the distribution of Fine amount thoughout the dataset\n",
    "df.hist(column = 'Fine amount', bins = 25)"
   ]
  },
  {
   "cell_type": "markdown",
   "metadata": {},
   "source": [
    "# Summary Statistics for Fine Amount Split by Vehicle Color"
   ]
  },
  {
   "cell_type": "code",
   "execution_count": 113,
   "metadata": {},
   "outputs": [
    {
     "name": "stdout",
     "output_type": "stream",
     "text": [
      "BK    1949809\n",
      "WT    1878941\n",
      "GY    1756398\n",
      "SL    1129415\n",
      "BL     702938\n",
      "RD     447439\n",
      "GN     256990\n",
      "BN     177559\n",
      "GO     118010\n",
      "MR     108300\n",
      "Name: Color, dtype: int64\n"
     ]
    }
   ],
   "source": [
    "#Finding top 10 color of vehicles to reorganize dataset to show top 10 and grouping remaining to other category\n",
    "color_count = df['Color'].value_counts()\n",
    "top_color = color_count.nlargest(10)\n",
    "print (top_color)"
   ]
  },
  {
   "cell_type": "code",
   "execution_count": 114,
   "metadata": {},
   "outputs": [],
   "source": [
    "#creating additional column with limited color values\n",
    "conditions = [\n",
    "    (df['Color'] == 'BK'),\n",
    "    (df['Color'] == 'WT'),\n",
    "    (df['Color'] == 'GY'),\n",
    "    (df['Color'] == 'SL'),\n",
    "    (df['Color'] == 'BL'),\n",
    "    (df['Color'] == 'RD'),\n",
    "    (df['Color'] == 'GN'),\n",
    "    (df['Color'] == 'BN'),\n",
    "    (df['Color'] == 'GO'),\n",
    "    (df['Color'] == 'MR')\n",
    "]\n",
    "choices = ['Black', 'White', 'Gray', 'Silver', 'Blue', 'Red', 'Green', 'Brown', 'Gold', 'Maroon']\n",
    "df['color_lim'] = np.select(conditions, choices, default='Other')\n",
    "\n",
    "#df.head()"
   ]
  },
  {
   "cell_type": "code",
   "execution_count": 115,
   "metadata": {},
   "outputs": [
    {
     "data": {
      "text/plain": [
       "<matplotlib.axes._subplots.AxesSubplot at 0x1ceefdef0>"
      ]
     },
     "execution_count": 115,
     "metadata": {},
     "output_type": "execute_result"
    },
    {
     "data": {
      "image/png": "[encoded data removed]",
      "text/plain": [
       "<Figure size 432x288 with 1 Axes>"
      ]
     },
     "metadata": {
      "needs_background": "light"
     },
     "output_type": "display_data"
    }
   ],
   "source": [
    "#Visualization of the number of citations based on vehicle color distributions\n",
    "df['color_lim'].value_counts().plot(kind='bar')"
   ]
  },
  {
   "cell_type": "code",
   "execution_count": 116,
   "metadata": {},
   "outputs": [
    {
     "name": "stdout",
     "output_type": "stream",
     "text": [
      "Fine amount mean: color_lim\n",
      "Black     68.792812\n",
      "Blue      69.383408\n",
      "Brown     80.705050\n",
      "Gold      70.398228\n",
      "Gray      70.051866\n",
      "Green     69.618646\n",
      "Maroon    70.530598\n",
      "Other     72.023078\n",
      "Red       70.203069\n",
      "Silver    69.686459\n",
      "White     70.551845\n",
      "Name: Fine amount, dtype: float64\n",
      "\n",
      "Fine amount variance: color_lim\n",
      "Black     1016.605504\n",
      "Blue       949.768025\n",
      "Brown      661.355502\n",
      "Gold      1238.026159\n",
      "Gray      1055.197402\n",
      "Green      877.931032\n",
      "Maroon    1059.205222\n",
      "Other     2015.254588\n",
      "Red        874.955853\n",
      "Silver     926.924921\n",
      "White      918.718900\n",
      "Name: Fine amount, dtype: float64\n",
      "\n",
      "Fine amount standard deviation: color_lim\n",
      "Black     31.884252\n",
      "Blue      30.818307\n",
      "Brown     25.716833\n",
      "Gold      35.185596\n",
      "Gray      32.483802\n",
      "Green     29.629901\n",
      "Maroon    32.545433\n",
      "Other     44.891587\n",
      "Red       29.579653\n",
      "Silver    30.445442\n",
      "White     30.310376\n",
      "Name: Fine amount, dtype: float64\n"
     ]
    }
   ],
   "source": [
    "#calulation of summary statistics split by new color grouping. To be compared to highlevel summary statistics for Fine amount\n",
    "mean_color_lim = df.groupby('color_lim')['Fine amount'].mean()\n",
    "std_color_lim = df.groupby('color_lim')['Fine amount'].std()\n",
    "var_color_lim = df.groupby('color_lim')['Fine amount'].var()\n",
    "\n",
    "print(\"Fine amount mean: \" + str(mean_color_lim))\n",
    "print()\n",
    "#print(\"Fine amount variance: \" + str(var_color_lim))\n",
    "#print()\n",
    "print(\"Fine amount standard deviation: \" + str(std_color_lim))"
   ]
  },
  {
   "cell_type": "markdown",
   "metadata": {},
   "source": [
    "# Summary Statistics for Fine Amount Split by Vehicle Make"
   ]
  },
  {
   "cell_type": "code",
   "execution_count": 117,
   "metadata": {},
   "outputs": [
    {
     "name": "stdout",
     "output_type": "stream",
     "text": [
      "TOYT    1496502\n",
      "HOND    1018779\n",
      "FORD     789533\n",
      "NISS     646079\n",
      "CHEV     616537\n",
      "BMW      413267\n",
      "MERZ     367868\n",
      "VOLK     309316\n",
      "HYUN     278337\n",
      "DODG     264980\n",
      "Name: Make, dtype: int64\n"
     ]
    }
   ],
   "source": [
    "#Finding top 10 make of vehicles to reorganize dataset to show top 10 and grouping remaining to other category\n",
    "df['Make'].value_counts()\n",
    "make_count = df['Make'].value_counts()\n",
    "top_make = make_count.nlargest(10)\n",
    "print (top_make)"
   ]
  },
  {
   "cell_type": "code",
   "execution_count": 118,
   "metadata": {},
   "outputs": [],
   "source": [
    "#creating additional column with limited make values\n",
    "conditions = [\n",
    "    (df['Make'] == 'TOYT'),\n",
    "    (df['Make'] == 'HOND'),\n",
    "    (df['Make'] == 'FORD'),\n",
    "    (df['Make'] == 'NISS'),\n",
    "    (df['Make'] == 'CHEV'),\n",
    "    (df['Make'] == 'BMW'),\n",
    "    (df['Make'] == 'MERZ'),\n",
    "    (df['Make'] == 'VOLK'),\n",
    "    (df['Make'] == 'HYUN'),\n",
    "    (df['Make'] == 'DODG')\n",
    "]\n",
    "choices = ['Toyota', 'Honda', 'Ford', 'Nissan', 'Chevy', 'BMW', 'Mercedes', 'Volkswagen', 'Hyundai', 'Dodge']\n",
    "df['make_lim'] = np.select(conditions, choices, default='Other')\n",
    "\n",
    "#df.head()"
   ]
  },
  {
   "cell_type": "code",
   "execution_count": 119,
   "metadata": {},
   "outputs": [
    {
     "data": {
      "text/plain": [
       "<matplotlib.axes._subplots.AxesSubplot at 0x1848b1358>"
      ]
     },
     "execution_count": 119,
     "metadata": {},
     "output_type": "execute_result"
    },
    {
     "data": {
      "image/png": "[encoded data removed]",
      "text/plain": [
       "<Figure size 432x288 with 1 Axes>"
      ]
     },
     "metadata": {
      "needs_background": "light"
     },
     "output_type": "display_data"
    }
   ],
   "source": [
    "#Visualization of the number of citations based on vehicle make distributions\n",
    "df['make_lim'].value_counts().plot(kind='bar')"
   ]
  },
  {
   "cell_type": "code",
   "execution_count": 120,
   "metadata": {},
   "outputs": [
    {
     "name": "stdout",
     "output_type": "stream",
     "text": [
      "Fine amount mean: make_lim\n",
      "BMW           65.442264\n",
      "Chevy         70.922228\n",
      "Dodge         70.678879\n",
      "Ford          70.440218\n",
      "Honda         70.141109\n",
      "Hyundai       70.790202\n",
      "Mercedes      67.639759\n",
      "Nissan        71.371940\n",
      "Other         70.476902\n",
      "Toyota        70.548458\n",
      "Volkswagen    67.595527\n",
      "Name: Fine amount, dtype: float64\n",
      "\n",
      "Fine amount variance: make_lim\n",
      "BMW           1033.657513\n",
      "Chevy         1124.604335\n",
      "Dodge         1122.174546\n",
      "Ford          1031.971113\n",
      "Honda          951.820021\n",
      "Hyundai        917.746847\n",
      "Mercedes      1271.284562\n",
      "Nissan        1039.085130\n",
      "Other         1121.523630\n",
      "Toyota         874.616331\n",
      "Volkswagen     736.585970\n",
      "Name: Fine amount, dtype: float64\n",
      "\n",
      "Fine amount standard deviation: make_lim\n",
      "BMW           32.150545\n",
      "Chevy         33.535121\n",
      "Dodge         33.498874\n",
      "Ford          32.124307\n",
      "Honda         30.851581\n",
      "Hyundai       30.294337\n",
      "Mercedes      35.655078\n",
      "Nissan        32.234843\n",
      "Other         33.489157\n",
      "Toyota        29.573913\n",
      "Volkswagen    27.140117\n",
      "Name: Fine amount, dtype: float64\n"
     ]
    }
   ],
   "source": [
    "#calulation of summary statistics split by new color grouping. To be compared to highlevel summary statistics for Fine amount\n",
    "mean_make_lim = df.groupby('make_lim')['Fine amount'].mean()\n",
    "std_make_lim = df.groupby('make_lim')['Fine amount'].std()\n",
    "var_make_lim = df.groupby('make_lim')['Fine amount'].var()\n",
    "\n",
    "print(\"Fine amount mean: \" + str(mean_make_lim))\n",
    "print()\n",
    "#print(\"Fine amount variance: \" + str(var_make_lim))\n",
    "#print()\n",
    "print(\"Fine amount standard deviation: \" + str(std_make_lim))"
   ]
  },
  {
   "cell_type": "markdown",
   "metadata": {},
   "source": [
    "# Summary Statistics for Fine Amount Split by Vehicle Type"
   ]
  },
  {
   "cell_type": "code",
   "execution_count": 121,
   "metadata": {},
   "outputs": [
    {
     "name": "stdout",
     "output_type": "stream",
     "text": [
      "PA    7950521\n",
      "PU     310392\n",
      "VN     241559\n",
      "TK     220509\n",
      "CM     145335\n",
      "Name: Body Style, dtype: int64\n"
     ]
    }
   ],
   "source": [
    "#Finding top 5 type of vehicles to reorganize dataset to show top 10 and grouping remaining to other category\n",
    "df['Body Style'].value_counts()\n",
    "type_count = df['Body Style'].value_counts()\n",
    "top_type = type_count.nlargest(5)\n",
    "print (top_type)"
   ]
  },
  {
   "cell_type": "code",
   "execution_count": 122,
   "metadata": {},
   "outputs": [],
   "source": [
    "#creating additional column with limited type values\n",
    "conditions = [\n",
    "    (df['Body Style'] == 'PA'),\n",
    "    (df['Body Style'] == 'PU'),\n",
    "    (df['Body Style'] == 'VN'),\n",
    "    (df['Body Style'] == 'TK'),\n",
    "    (df['Body Style'] == 'CM')\n",
    "]\n",
    "choices = ['Passenger Auto', 'Pick up', 'Van', 'Truck', 'Commercial']\n",
    "df['type_lim'] = np.select(conditions, choices, default='Other')\n",
    "\n",
    "#df.head()"
   ]
  },
  {
   "cell_type": "code",
   "execution_count": 123,
   "metadata": {},
   "outputs": [
    {
     "data": {
      "text/plain": [
       "<matplotlib.axes._subplots.AxesSubplot at 0x1d4116400>"
      ]
     },
     "execution_count": 123,
     "metadata": {},
     "output_type": "execute_result"
    },
    {
     "data": {
      "image/png": "[encoded data removed]",
      "text/plain": [
       "<Figure size 432x288 with 1 Axes>"
      ]
     },
     "metadata": {
      "needs_background": "light"
     },
     "output_type": "display_data"
    }
   ],
   "source": [
    "#Visualization of the number of citations based on vehicle type distributions\n",
    "df['type_lim'].value_counts().plot(kind='bar')"
   ]
  },
  {
   "cell_type": "code",
   "execution_count": 137,
   "metadata": {},
   "outputs": [
    {
     "name": "stdout",
     "output_type": "stream",
     "text": [
      "Fine amount mean: type_lim\n",
      "Commercial        82.127077\n",
      "Other             72.723295\n",
      "Passenger Auto    69.488321\n",
      "Pick up           70.857099\n",
      "Truck             77.785259\n",
      "Van               73.649680\n",
      "Name: Fine amount, dtype: float64\n",
      "\n",
      "Fine amount standard deviation: type_lim\n",
      "Commercial        25.513000\n",
      "Other             46.420977\n",
      "Passenger Auto    31.878144\n",
      "Pick up           31.684409\n",
      "Truck             27.821767\n",
      "Van               33.127604\n",
      "Name: Fine amount, dtype: float64\n"
     ]
    }
   ],
   "source": [
    "#calulation of summary statistics split by new color grouping. To be compared to highlevel summary statistics for Fine amount\n",
    "mean_type_lim = df.groupby('type_lim')['Fine amount'].mean()\n",
    "std_type_lim = df.groupby('type_lim')['Fine amount'].std()\n",
    "var_type_lim = df.groupby('type_lim')['Fine amount'].var()\n",
    "\n",
    "print(\"Fine amount mean: \" + str(mean_type_lim))\n",
    "print()\n",
    "#print(\"Fine amount variance: \" + str(var_type_lim))\n",
    "#print()\n",
    "print(\"Fine amount standard deviation: \" + str(std_type_lim))"
   ]
  },
  {
   "cell_type": "markdown",
   "metadata": {},
   "source": [
    "# Looking at different types of violations and their fine amount"
   ]
  },
  {
   "cell_type": "code",
   "execution_count": 126,
   "metadata": {},
   "outputs": [
    {
     "name": "stdout",
     "output_type": "stream",
     "text": [
      "NO PARK/STREET CLEAN      2615074\n",
      "METER EXP.                1573531\n",
      "RED ZONE                   676304\n",
      "PREFERENTIAL PARKING       622660\n",
      "DISPLAY OF TABS            556288\n",
      "NO PARKING                 403333\n",
      "DISPLAY OF PLATES          249637\n",
      "WHITE ZONE                 202128\n",
      "PARKED OVER TIME LIMIT     163415\n",
      "NO STOP/STANDING           162647\n",
      "Name: Violation Description, dtype: int64\n"
     ]
    }
   ],
   "source": [
    "#Finding top 10 violation_desc to reorganize dataset to show top 10 and grouping remaining to other category\n",
    "df['Violation Description'].value_counts()\n",
    "violation_desc_count = df['Violation Description'].value_counts()\n",
    "top_violation_desc = violation_desc_count.nlargest(10)\n",
    "print (top_violation_desc)"
   ]
  },
  {
   "cell_type": "code",
   "execution_count": 136,
   "metadata": {},
   "outputs": [],
   "source": [
    "#finding out how much the fine amount for No park/street clean\n",
    "#df.loc[lambda df: df['Violation Description'] == 'NO PARK/STREET CLEAN']\n",
    "#$73"
   ]
  },
  {
   "cell_type": "code",
   "execution_count": 135,
   "metadata": {
    "scrolled": false
   },
   "outputs": [],
   "source": [
    "#finding out how much the fine amount for Meter EXP\n",
    "#df.loc[lambda df: df['Violation Description'] == 'METER EXP.']\n",
    "#$63"
   ]
  },
  {
   "cell_type": "code",
   "execution_count": 133,
   "metadata": {},
   "outputs": [
    {
     "data": {
      "text/html": [
       "<div>\n",
       "<style scoped>\n",
       "    .dataframe tbody tr th:only-of-type {\n",
       "        vertical-align: middle;\n",
       "    }\n",
       "\n",
       "    .dataframe tbody tr th {\n",
       "        vertical-align: top;\n",
       "    }\n",
       "\n",
       "    .dataframe thead th {\n",
       "        text-align: right;\n",
       "    }\n",
       "</style>\n",
       "<table border=\"1\" class=\"dataframe\">\n",
       "  <thead>\n",
       "    <tr style=\"text-align: right;\">\n",
       "      <th></th>\n",
       "      <th>Ticket number</th>\n",
       "      <th>Issue Date</th>\n",
       "      <th>Issue time</th>\n",
       "      <th>Meter Id</th>\n",
       "      <th>Marked Time</th>\n",
       "      <th>RP State Plate</th>\n",
       "      <th>Plate Expiry Date</th>\n",
       "      <th>VIN</th>\n",
       "      <th>Make</th>\n",
       "      <th>Body Style</th>\n",
       "      <th>...</th>\n",
       "      <th>Agency</th>\n",
       "      <th>Violation code</th>\n",
       "      <th>Violation Description</th>\n",
       "      <th>Fine amount</th>\n",
       "      <th>Latitude</th>\n",
       "      <th>Longitude</th>\n",
       "      <th>color_lim</th>\n",
       "      <th>make_lim</th>\n",
       "      <th>type_lim</th>\n",
       "      <th>violation_desc_lim</th>\n",
       "    </tr>\n",
       "  </thead>\n",
       "  <tbody>\n",
       "    <tr>\n",
       "      <th>0</th>\n",
       "      <td>1103341116</td>\n",
       "      <td>2015-12-21T00:00:00</td>\n",
       "      <td>1251.0</td>\n",
       "      <td>NaN</td>\n",
       "      <td>NaN</td>\n",
       "      <td>CA</td>\n",
       "      <td>200304.0</td>\n",
       "      <td>NaN</td>\n",
       "      <td>HOND</td>\n",
       "      <td>PA</td>\n",
       "      <td>...</td>\n",
       "      <td>1.0</td>\n",
       "      <td>4000A1</td>\n",
       "      <td>NO EVIDENCE OF REG</td>\n",
       "      <td>50.0</td>\n",
       "      <td>99999.0</td>\n",
       "      <td>99999.0</td>\n",
       "      <td>Gray</td>\n",
       "      <td>Honda</td>\n",
       "      <td>Passenger Auto</td>\n",
       "      <td>Other</td>\n",
       "    </tr>\n",
       "    <tr>\n",
       "      <th>1</th>\n",
       "      <td>1103700150</td>\n",
       "      <td>2015-12-21T00:00:00</td>\n",
       "      <td>1435.0</td>\n",
       "      <td>NaN</td>\n",
       "      <td>NaN</td>\n",
       "      <td>CA</td>\n",
       "      <td>201512.0</td>\n",
       "      <td>NaN</td>\n",
       "      <td>GMC</td>\n",
       "      <td>VN</td>\n",
       "      <td>...</td>\n",
       "      <td>1.0</td>\n",
       "      <td>4000A1</td>\n",
       "      <td>NO EVIDENCE OF REG</td>\n",
       "      <td>50.0</td>\n",
       "      <td>99999.0</td>\n",
       "      <td>99999.0</td>\n",
       "      <td>Other</td>\n",
       "      <td>Other</td>\n",
       "      <td>Van</td>\n",
       "      <td>Other</td>\n",
       "    </tr>\n",
       "    <tr>\n",
       "      <th>2</th>\n",
       "      <td>1104803000</td>\n",
       "      <td>2015-12-21T00:00:00</td>\n",
       "      <td>2055.0</td>\n",
       "      <td>NaN</td>\n",
       "      <td>NaN</td>\n",
       "      <td>CA</td>\n",
       "      <td>201503.0</td>\n",
       "      <td>NaN</td>\n",
       "      <td>NISS</td>\n",
       "      <td>PA</td>\n",
       "      <td>...</td>\n",
       "      <td>2.0</td>\n",
       "      <td>8939</td>\n",
       "      <td>WHITE CURB</td>\n",
       "      <td>58.0</td>\n",
       "      <td>6439997.9</td>\n",
       "      <td>1802686.4</td>\n",
       "      <td>Black</td>\n",
       "      <td>Nissan</td>\n",
       "      <td>Passenger Auto</td>\n",
       "      <td>Other</td>\n",
       "    </tr>\n",
       "    <tr>\n",
       "      <th>3</th>\n",
       "      <td>1104820732</td>\n",
       "      <td>2015-12-26T00:00:00</td>\n",
       "      <td>1515.0</td>\n",
       "      <td>NaN</td>\n",
       "      <td>NaN</td>\n",
       "      <td>CA</td>\n",
       "      <td>NaN</td>\n",
       "      <td>NaN</td>\n",
       "      <td>ACUR</td>\n",
       "      <td>PA</td>\n",
       "      <td>...</td>\n",
       "      <td>2.0</td>\n",
       "      <td>000</td>\n",
       "      <td>17104h</td>\n",
       "      <td>NaN</td>\n",
       "      <td>6440041.1</td>\n",
       "      <td>1802686.2</td>\n",
       "      <td>Other</td>\n",
       "      <td>Other</td>\n",
       "      <td>Passenger Auto</td>\n",
       "      <td>Other</td>\n",
       "    </tr>\n",
       "    <tr>\n",
       "      <th>4</th>\n",
       "      <td>1105461453</td>\n",
       "      <td>2015-09-15T00:00:00</td>\n",
       "      <td>115.0</td>\n",
       "      <td>NaN</td>\n",
       "      <td>NaN</td>\n",
       "      <td>CA</td>\n",
       "      <td>200316.0</td>\n",
       "      <td>NaN</td>\n",
       "      <td>CHEV</td>\n",
       "      <td>PA</td>\n",
       "      <td>...</td>\n",
       "      <td>1.0</td>\n",
       "      <td>8069A</td>\n",
       "      <td>NO STOPPING/STANDING</td>\n",
       "      <td>93.0</td>\n",
       "      <td>99999.0</td>\n",
       "      <td>99999.0</td>\n",
       "      <td>Black</td>\n",
       "      <td>Chevy</td>\n",
       "      <td>Passenger Auto</td>\n",
       "      <td>Other</td>\n",
       "    </tr>\n",
       "  </tbody>\n",
       "</table>\n",
       "<p>5 rows × 23 columns</p>\n",
       "</div>"
      ],
      "text/plain": [
       "  Ticket number           Issue Date  Issue time Meter Id  Marked Time  \\\n",
       "0    1103341116  2015-12-21T00:00:00      1251.0      NaN          NaN   \n",
       "1    1103700150  2015-12-21T00:00:00      1435.0      NaN          NaN   \n",
       "2    1104803000  2015-12-21T00:00:00      2055.0      NaN          NaN   \n",
       "3    1104820732  2015-12-26T00:00:00      1515.0      NaN          NaN   \n",
       "4    1105461453  2015-09-15T00:00:00       115.0      NaN          NaN   \n",
       "\n",
       "  RP State Plate  Plate Expiry Date  VIN  Make Body Style  ... Agency  \\\n",
       "0             CA           200304.0  NaN  HOND         PA  ...    1.0   \n",
       "1             CA           201512.0  NaN   GMC         VN  ...    1.0   \n",
       "2             CA           201503.0  NaN  NISS         PA  ...    2.0   \n",
       "3             CA                NaN  NaN  ACUR         PA  ...    2.0   \n",
       "4             CA           200316.0  NaN  CHEV         PA  ...    1.0   \n",
       "\n",
       "  Violation code Violation Description  Fine amount   Latitude  Longitude  \\\n",
       "0         4000A1    NO EVIDENCE OF REG         50.0    99999.0    99999.0   \n",
       "1         4000A1    NO EVIDENCE OF REG         50.0    99999.0    99999.0   \n",
       "2           8939            WHITE CURB         58.0  6439997.9  1802686.4   \n",
       "3            000                17104h          NaN  6440041.1  1802686.2   \n",
       "4          8069A  NO STOPPING/STANDING         93.0    99999.0    99999.0   \n",
       "\n",
       "   color_lim  make_lim        type_lim violation_desc_lim  \n",
       "0       Gray     Honda  Passenger Auto              Other  \n",
       "1      Other     Other             Van              Other  \n",
       "2      Black    Nissan  Passenger Auto              Other  \n",
       "3      Other     Other  Passenger Auto              Other  \n",
       "4      Black     Chevy  Passenger Auto              Other  \n",
       "\n",
       "[5 rows x 23 columns]"
      ]
     },
     "execution_count": 133,
     "metadata": {},
     "output_type": "execute_result"
    }
   ],
   "source": [
    "#creating additional column with limited type values\n",
    "conditions = [\n",
    "    (df['Violation Description'] == 'NO PARK/STREET CLEAN'),\n",
    "    (df['Violation Description'] == 'METER EXP.'),\n",
    "    (df['Violation Description'] == 'RED ZONE'),\n",
    "    (df['Violation Description'] == 'PREFERENTIAL PARKING'),\n",
    "    (df['Violation Description'] == 'DISPLAY OF TABS'),\n",
    "    (df['Violation Description'] == 'NO PARKING'),\n",
    "    (df['Violation Description'] == 'DISPLAY OF PLATES'),\n",
    "    (df['Violation Description'] == 'WHITE ZONE'),\n",
    "    (df['Violation Description'] == 'PARKED OVER TIME LIMIT'),\n",
    "    (df['Violation Description'] == 'NO STOP/STANDING')\n",
    "]\n",
    "\n",
    "choices = ['NO PARK/STREET CLEAN', 'METER EXP.', 'RED ZONE', 'PREFERENTIAL PARKING', 'DISPLAY OF TABS', 'NO PARKING','DISPLAY OF PLATES','WHITE ZONE','PARKED OVER TIME LIMIT','NO STOP/STANDING']\n",
    "df['violation_desc_lim'] = np.select(conditions, choices, default='Other')\n",
    "\n",
    "#df.head()"
   ]
  },
  {
   "cell_type": "code",
   "execution_count": 134,
   "metadata": {},
   "outputs": [
    {
     "data": {
      "text/plain": [
       "<matplotlib.axes._subplots.AxesSubplot at 0x1a6bf4f60>"
      ]
     },
     "execution_count": 134,
     "metadata": {},
     "output_type": "execute_result"
    },
    {
     "data": {
      "image/png": "[encoded data removed]",
      "text/plain": [
       "<Figure size 432x288 with 1 Axes>"
      ]
     },
     "metadata": {
      "needs_background": "light"
     },
     "output_type": "display_data"
    }
   ],
   "source": [
    "#Visualization of the number of citations based on violation distributions\n",
    "df['violation_desc_lim'].value_counts().plot(kind='bar')"
   ]
  },
  {
   "cell_type": "code",
   "execution_count": 144,
   "metadata": {},
   "outputs": [
    {
     "name": "stdout",
     "output_type": "stream",
     "text": [
      "color_lim\n",
      "Black     -1.317188\n",
      "Blue      -0.726592\n",
      "Brown     10.595050\n",
      "Gold       0.288228\n",
      "Gray      -0.058134\n",
      "Green     -0.491354\n",
      "Maroon     0.420598\n",
      "Other      1.913078\n",
      "Red        0.093069\n",
      "Silver    -0.423541\n",
      "White      0.441845\n",
      "Name: Fine amount, dtype: float64\n",
      "\n",
      "make_lim\n",
      "BMW          -4.667736\n",
      "Chevy         0.812228\n",
      "Dodge         0.568879\n",
      "Ford          0.330218\n",
      "Honda         0.031109\n",
      "Hyundai       0.680202\n",
      "Mercedes     -2.470241\n",
      "Nissan        1.261940\n",
      "Other         0.366902\n",
      "Toyota        0.438458\n",
      "Volkswagen   -2.514473\n",
      "Name: Fine amount, dtype: float64\n",
      "\n",
      "type_lim\n",
      "Commercial        12.017077\n",
      "Other              2.613295\n",
      "Passenger Auto    -0.621679\n",
      "Pick up            0.747099\n",
      "Truck              7.675259\n",
      "Van                3.539680\n",
      "Name: Fine amount, dtype: float64\n"
     ]
    }
   ],
   "source": [
    "#calculating the deviation from the mean split by the different groups\n",
    "color_diff = mean_color_lim - mean_fa\n",
    "make_diff = mean_make_lim - mean_fa\n",
    "type_diff = mean_type_lim - mean_fa\n",
    "\n",
    "print(color_diff)\n",
    "print()\n",
    "print(make_diff)\n",
    "print()\n",
    "print(type_diff)"
   ]
  },
  {
   "cell_type": "code",
   "execution_count": 166,
   "metadata": {},
   "outputs": [
    {
     "data": {
      "text/plain": [
       "Text(0.5, 1.0, 'Deviation from the Mean Split by Vehicle Type')"
      ]
     },
     "execution_count": 166,
     "metadata": {},
     "output_type": "execute_result"
    },
    {
     "data": {
      "image/png": "[encoded data removed]",
      "text/plain": [
       "<Figure size 720x720 with 3 Axes>"
      ]
     },
     "metadata": {
      "needs_background": "light"
     },
     "output_type": "display_data"
    }
   ],
   "source": [
    "#plotting deviation from the means to better visualize differences\n",
    "plt.figure(figsize=(10,10))\n",
    "\n",
    "plt.subplot(3,1,1)\n",
    "plt.plot(color_diff)\n",
    "plt.axhline(y=0, color='k', linestyle='dashed')\n",
    "plt.title('Deviation from the Mean Split by Vehicle Color')\n",
    "plt.subplots_adjust(hspace = 0.7)\n",
    "\n",
    "plt.subplot(3,1,2)\n",
    "plt.plot(make_diff)\n",
    "plt.axhline(y=0, color='k', linestyle='dashed')\n",
    "plt.title('Deviation from the Mean Split by Vehicle Make')\n",
    "plt.subplots_adjust(hspace = 0.7)\n",
    "\n",
    "plt.subplot(3,1,3)\n",
    "plt.plot(type_diff)\n",
    "plt.axhline(y=0, color='k', linestyle='dashed')\n",
    "plt.title('Deviation from the Mean Split by Vehicle Type')"
   ]
  },
  {
   "cell_type": "code",
   "execution_count": null,
   "metadata": {},
   "outputs": [],
   "source": []
  }
 ],
 "metadata": {
  "kernelspec": {
   "display_name": "Python 3",
   "language": "python",
   "name": "python3"
  },
  "language_info": {
   "codemirror_mode": {
    "name": "ipython",
    "version": 3
   },
   "file_extension": ".py",
   "mimetype": "text/x-python",
   "name": "python",
   "nbconvert_exporter": "python",
   "pygments_lexer": "ipython3",
   "version": "3.7.2"
  }
 },
 "nbformat": 4,
 "nbformat_minor": 2
}
