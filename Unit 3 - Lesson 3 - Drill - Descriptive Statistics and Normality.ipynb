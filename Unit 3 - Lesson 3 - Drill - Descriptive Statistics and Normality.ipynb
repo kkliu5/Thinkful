{
 "cells": [
  {
   "cell_type": "code",
   "execution_count": 146,
   "metadata": {},
   "outputs": [],
   "source": [
    "import numpy as np\n",
    "import pandas as pd\n",
    "import matplotlib.pyplot as plt\n",
    "%matplotlib inline"
   ]
  },
  {
   "cell_type": "code",
   "execution_count": 147,
   "metadata": {},
   "outputs": [],
   "source": [
    "bi = np.random.binomial(10,.4,100)\n",
    "ex = np.random.exponential(.3,100)\n",
    "ga = np.random.gamma(2,2,100)\n",
    "ge = np.random.geometric(.6,100)\n",
    "lo = np.random.lognormal(2,.5,100)\n",
    "po = np.random.poisson(6, 100)\n",
    "\n",
    "var1 = np.random.normal(5,.5,100)\n",
    "var2 = np.random.normal(10,1,100)\n",
    "var3 = var1 + var2"
   ]
  },
  {
   "cell_type": "code",
   "execution_count": 148,
   "metadata": {},
   "outputs": [],
   "source": [
    "def graph(dist):\n",
    "    plt.hist(dist)\n",
    "    # Add a vertical line at the mean.\n",
    "    plt.axvline(dist.mean(), color='b', linestyle='solid', linewidth=2)\n",
    "    # Add a vertical line at one standard deviation above the mean.\n",
    "    plt.axvline(dist.mean() + dist.std(), color='b', linestyle='dashed', linewidth=2)\n",
    "    # Add a vertical line at one standard deviation below the mean.\n",
    "    plt.axvline(dist.mean() - dist.std(), color='b', linestyle='dashed', linewidth=2) \n",
    "    \n",
    "    plt.show()\n",
    "    \n",
    "    print(\"Mean:\")\n",
    "    print(format(dist.mean(),'.3f'))\n",
    "    print(\"\\n\")\n",
    "    print(\"+ 1 Standard Deviation:\")\n",
    "    print(format(dist.mean() + dist.std(),'.3f'))\n",
    "    print(\"\\n\")\n",
    "    print(\"- 1 Standard Deviation:\")\n",
    "    print(format(dist.mean() - dist.std(),'.3f'))\n",
    "    print(\"\\n\")"
   ]
  },
  {
   "cell_type": "code",
   "execution_count": 149,
   "metadata": {},
   "outputs": [
    {
     "data": {
      "image/png": "[encoded data removed]",
      "text/plain": [
       "<Figure size 432x288 with 1 Axes>"
      ]
     },
     "metadata": {
      "needs_background": "light"
     },
     "output_type": "display_data"
    },
    {
     "name": "stdout",
     "output_type": "stream",
     "text": [
      "Mean:\n",
      "3.840\n",
      "\n",
      "\n",
      "+ 1 Standard Deviation:\n",
      "5.280\n",
      "\n",
      "\n",
      "- 1 Standard Deviation:\n",
      "2.400\n",
      "\n",
      "\n",
      "In general the mean is fairly in the center of the distribution and is somewhat symmetrical\n"
     ]
    }
   ],
   "source": [
    "#Binomial\n",
    "graph(bi)\n",
    "\n",
    "print(\"In general the mean is fairly in the center of the distribution and is somewhat symmetrical\")"
   ]
  },
  {
   "cell_type": "code",
   "execution_count": 150,
   "metadata": {},
   "outputs": [
    {
     "data": {
      "image/png": "[encoded data removed]",
      "text/plain": [
       "<Figure size 432x288 with 1 Axes>"
      ]
     },
     "metadata": {
      "needs_background": "light"
     },
     "output_type": "display_data"
    },
    {
     "name": "stdout",
     "output_type": "stream",
     "text": [
      "Mean:\n",
      "0.264\n",
      "\n",
      "\n",
      "+ 1 Standard Deviation:\n",
      "0.533\n",
      "\n",
      "\n",
      "- 1 Standard Deviation:\n",
      "-0.005\n",
      "\n",
      "\n",
      "Mean is pulled towards the left of the graph since the graph is skewed.\n"
     ]
    }
   ],
   "source": [
    "#Exponential\n",
    "graph(ex)\n",
    "print(\"Mean is pulled towards the left of the graph since the graph is skewed.\")"
   ]
  },
  {
   "cell_type": "code",
   "execution_count": 151,
   "metadata": {},
   "outputs": [
    {
     "data": {
      "image/png": "[encoded data removed]",
      "text/plain": [
       "<Figure size 432x288 with 1 Axes>"
      ]
     },
     "metadata": {
      "needs_background": "light"
     },
     "output_type": "display_data"
    },
    {
     "name": "stdout",
     "output_type": "stream",
     "text": [
      "Mean:\n",
      "4.091\n",
      "\n",
      "\n",
      "+ 1 Standard Deviation:\n",
      "6.926\n",
      "\n",
      "\n",
      "- 1 Standard Deviation:\n",
      "1.256\n",
      "\n",
      "\n",
      "Mean is more towards the left of the graph and is slightly skewed\n"
     ]
    }
   ],
   "source": [
    "#Gamma\n",
    "graph(ga)\n",
    "print(\"Mean is more towards the left of the graph and is slightly skewed\")"
   ]
  },
  {
   "cell_type": "code",
   "execution_count": 152,
   "metadata": {},
   "outputs": [
    {
     "data": {
      "image/png": "[encoded data removed]",
      "text/plain": [
       "<Figure size 432x288 with 1 Axes>"
      ]
     },
     "metadata": {
      "needs_background": "light"
     },
     "output_type": "display_data"
    },
    {
     "name": "stdout",
     "output_type": "stream",
     "text": [
      "Mean:\n",
      "1.660\n",
      "\n",
      "\n",
      "+ 1 Standard Deviation:\n",
      "2.672\n",
      "\n",
      "\n",
      "- 1 Standard Deviation:\n",
      "0.648\n",
      "\n",
      "\n",
      "Mean is heavily weighted towards first point and is skewed\n"
     ]
    }
   ],
   "source": [
    "#Geometric\n",
    "graph(ge)\n",
    "print(\"Mean is heavily weighted towards first point and is skewed\")"
   ]
  },
  {
   "cell_type": "code",
   "execution_count": 153,
   "metadata": {},
   "outputs": [
    {
     "data": {
      "image/png": "[encoded data removed]",
      "text/plain": [
       "<Figure size 432x288 with 1 Axes>"
      ]
     },
     "metadata": {
      "needs_background": "light"
     },
     "output_type": "display_data"
    },
    {
     "name": "stdout",
     "output_type": "stream",
     "text": [
      "Mean:\n",
      "8.681\n",
      "\n",
      "\n",
      "+ 1 Standard Deviation:\n",
      "12.926\n",
      "\n",
      "\n",
      "- 1 Standard Deviation:\n",
      "4.436\n",
      "\n",
      "\n",
      "Mean is more towards the left of the graph and is skewed\n"
     ]
    }
   ],
   "source": [
    "#Lognormal\n",
    "graph(lo)\n",
    "print(\"Mean is more towards the left of the graph and is skewed\")"
   ]
  },
  {
   "cell_type": "code",
   "execution_count": 154,
   "metadata": {},
   "outputs": [
    {
     "data": {
      "image/png": "[encoded data removed]",
      "text/plain": [
       "<Figure size 432x288 with 1 Axes>"
      ]
     },
     "metadata": {
      "needs_background": "light"
     },
     "output_type": "display_data"
    },
    {
     "name": "stdout",
     "output_type": "stream",
     "text": [
      "Mean:\n",
      "5.990\n",
      "\n",
      "\n",
      "+ 1 Standard Deviation:\n",
      "8.522\n",
      "\n",
      "\n",
      "- 1 Standard Deviation:\n",
      "3.458\n",
      "\n",
      "\n",
      "Mean is somewhat centered but not very symmetrical\n"
     ]
    }
   ],
   "source": [
    "#Poisson\n",
    "graph(po)\n",
    "print(\"Mean is somewhat centered but not very symmetrical\")"
   ]
  },
  {
   "cell_type": "code",
   "execution_count": 155,
   "metadata": {},
   "outputs": [
    {
     "data": {
      "image/png": "[encoded data removed]",
      "text/plain": [
       "<Figure size 432x288 with 1 Axes>"
      ]
     },
     "metadata": {
      "needs_background": "light"
     },
     "output_type": "display_data"
    },
    {
     "name": "stdout",
     "output_type": "stream",
     "text": [
      "Mean:\n",
      "14.944\n",
      "\n",
      "\n",
      "+ 1 Standard Deviation:\n",
      "16.073\n",
      "\n",
      "\n",
      "- 1 Standard Deviation:\n",
      "13.815\n",
      "\n",
      "\n",
      "Mean is somewhat centered but is not very symmetrical\n"
     ]
    }
   ],
   "source": [
    "#Normal\n",
    "graph(var3)\n",
    "print(\"Mean is somewhat centered but is not very symmetrical\")"
   ]
  },
  {
   "cell_type": "code",
   "execution_count": null,
   "metadata": {},
   "outputs": [],
   "source": []
  }
 ],
 "metadata": {
  "kernelspec": {
   "display_name": "Python 3",
   "language": "python",
   "name": "python3"
  },
  "language_info": {
   "codemirror_mode": {
    "name": "ipython",
    "version": 3
   },
   "file_extension": ".py",
   "mimetype": "text/x-python",
   "name": "python",
   "nbconvert_exporter": "python",
   "pygments_lexer": "ipython3",
   "version": "3.7.2"
  }
 },
 "nbformat": 4,
 "nbformat_minor": 2
}
