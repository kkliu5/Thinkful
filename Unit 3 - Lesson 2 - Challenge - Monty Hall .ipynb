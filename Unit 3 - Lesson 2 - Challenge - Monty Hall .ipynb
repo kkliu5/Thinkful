{
 "cells": [
  {
   "cell_type": "markdown",
   "metadata": {},
   "source": [
    "I would switch the door. Initially I had a 1 in 3 chance of getting the correct door, however after the host eliminates one of the door I have a 1 in 2 chance of getting the correct door. By taking the opportunity to switch the door I am taking advantage of better odds. \n",
    "\n",
    "<br>Mathmatically proving that you should switch the door:\n",
    "\n",
    "<br>Probability of winning if you do not switch.\n",
    "<br>P(Door 1) = 1/3\n",
    "<br>P(Door 2) = 1/3\n",
    "<br>P(Door 3) = 1/3\n",
    "\n",
    "<br>Say that door 1 has the car:\n",
    "<br>Probabiliity of winning if you always switch.\n",
    "<br>P(Door 2 | Door 3 Closes) = 1/3\n",
    "<br>P(Door 3 | Door 2 Closes) = 1/3\n",
    "\n",
    "<br>Total probability of winning = 2/3\n"
   ]
  },
  {
   "cell_type": "code",
   "execution_count": null,
   "metadata": {},
   "outputs": [],
   "source": []
  }
 ],
 "metadata": {
  "kernelspec": {
   "display_name": "Python 3",
   "language": "python",
   "name": "python3"
  },
  "language_info": {
   "codemirror_mode": {
    "name": "ipython",
    "version": 3
   },
   "file_extension": ".py",
   "mimetype": "text/x-python",
   "name": "python",
   "nbconvert_exporter": "python",
   "pygments_lexer": "ipython3",
   "version": "3.7.2"
  }
 },
 "nbformat": 4,
 "nbformat_minor": 2
}
