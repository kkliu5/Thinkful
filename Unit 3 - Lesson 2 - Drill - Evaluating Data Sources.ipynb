{
 "cells": [
  {
   "cell_type": "markdown",
   "metadata": {},
   "source": [
    "- Data is limited to AirBnB only and is collected on the day before Christmas, therefore does not give the best picture of all of Amsterdam and could be biased towards vacations homes. Get data from another website that would contain information about houses in Amsterdam. Also either sample multiple dates or sample from another random date that is not close to holidays.\n",
    "\n",
    "- Data is sampled the day after September 11th, people could be subjected to more trauma and see help signficantly more in New York City than in San Francisco. Sample multiple dates or randomly select a date that would not skew the results. \n",
    "\n",
    "- The most common reasons Armenians visit local pubs is to hang out with friends. One shortcoming is that it does not include data stating where the participant is from, so there could be a bias whether the data represents Armenians or people visiting Armenia. Majority of the particpants siad that they were students, so they could be students that are not from Armenia but is studying in a university nearby. Instead of trying to answer the question about Armenians can change the question to reflect students studying in Armenia visiting pubs. \n"
   ]
  },
  {
   "cell_type": "code",
   "execution_count": null,
   "metadata": {},
   "outputs": [],
   "source": []
  }
 ],
 "metadata": {
  "kernelspec": {
   "display_name": "Python 3",
   "language": "python",
   "name": "python3"
  },
  "language_info": {
   "codemirror_mode": {
    "name": "ipython",
    "version": 3
   },
   "file_extension": ".py",
   "mimetype": "text/x-python",
   "name": "python",
   "nbconvert_exporter": "python",
   "pygments_lexer": "ipython3",
   "version": "3.7.2"
  }
 },
 "nbformat": 4,
 "nbformat_minor": 2
}
