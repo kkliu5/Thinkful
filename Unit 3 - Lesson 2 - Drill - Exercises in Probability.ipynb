{
 "cells": [
  {
   "cell_type": "markdown",
   "metadata": {},
   "source": [
    "# Exercise 1 \n",
    "Calculate the probability of flipping a balanced coin four times and getting each pattern: HTTH, HHHH and TTHH.\n",
    "\n",
    "|Number|Sequence|\n",
    "|---|---|\n",
    "|1|HHHH|\n",
    "|2|HHHT|\n",
    "|3|HHTH|\n",
    "|4|HTHH|\n",
    "|5|THHH|\n",
    "|6|HHTT|\n",
    "|7|HTTH|\n",
    "|8|TTHH|\n",
    "|9|HTTT|\n",
    "|10|TTTH|\n",
    "|11|TTTT|\n",
    "\n",
    "P $= .5^4 = .0625$\n",
    "\n",
    "Each pattern has the same probabilty of .0625\n"
   ]
  },
  {
   "cell_type": "markdown",
   "metadata": {},
   "source": [
    "# Exercise 2\n",
    "If a list of people has 24 women and 21 men, then the probability of choosing a man from the list is 21/45. What is the probability of not choosing a man?\n",
    "\n",
    "P $= \\frac{24}{45} $"
   ]
  },
  {
   "cell_type": "markdown",
   "metadata": {},
   "source": [
    "# Exercise 3\n",
    "The probability that Bernice will travel by plane sometime in the next year is 10%. The probability of a plane crash at any time is .005%. What is the probability that Bernice will be in a plane crash sometime in the next year?\n",
    "\n",
    "P $= .1 * .00005 = .000005$ or .0005%"
   ]
  },
  {
   "cell_type": "markdown",
   "metadata": {},
   "source": [
    "# Exercise 4\n",
    "A data scientist wants to study the behavior of users on the company website. Each time a user clicks on a link on the website, there is a 5% chance that the user will be asked to complete a short survey about their behavior on the website. The data scientist uses the survey data to conclude that, on average, users spend 15 minutes surfing the company website before moving on to other things. What is wrong with this conclusion?\n",
    "\n",
    "Not every user will click on a link. Also people that use the website longer will have a greater chance of clicking the links and getting a survey, therefore creating a bias. The survey should make everyone that visits the website to answer, which would elminate the bias. "
   ]
  },
  {
   "cell_type": "code",
   "execution_count": null,
   "metadata": {},
   "outputs": [],
   "source": []
  }
 ],
 "metadata": {
  "kernelspec": {
   "display_name": "Python 3",
   "language": "python",
   "name": "python3"
  },
  "language_info": {
   "codemirror_mode": {
    "name": "ipython",
    "version": 3
   },
   "file_extension": ".py",
   "mimetype": "text/x-python",
   "name": "python",
   "nbconvert_exporter": "python",
   "pygments_lexer": "ipython3",
   "version": "3.7.2"
  }
 },
 "nbformat": 4,
 "nbformat_minor": 2
}
